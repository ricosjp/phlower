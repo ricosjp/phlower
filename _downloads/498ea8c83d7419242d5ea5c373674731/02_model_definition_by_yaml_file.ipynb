{
  "cells": [
    {
      "cell_type": "markdown",
      "metadata": {},
      "source": [
        "\n\n\n# Model Definition by Yaml file\n\nPhlower offers a way to define models and its order by yaml file.\n"
      ]
    },
    {
      "cell_type": "markdown",
      "metadata": {},
      "source": [
        "First of all, we would like to load sample yaml data. Please download sample sample yaml.\n[data.yml](https://github.com/ricosjp/phlower/tutorials/basic_usages/sample_data/model/model.yml)\n\nwe construct PhlowerSetting object from yaml file.\n\n"
      ]
    },
    {
      "cell_type": "code",
      "execution_count": null,
      "metadata": {
        "collapsed": false
      },
      "outputs": [],
      "source": [
        "from phlower.settings import PhlowerSetting\n\nsetting = PhlowerSetting.read_yaml(\"sample_data/model/model.yml\")"
      ]
    },
    {
      "cell_type": "markdown",
      "metadata": {},
      "source": [
        "Order of models must be DAG (Directed Acyclic Graph).\nTo check such conditions, we call `resolve` function.\n\n"
      ]
    },
    {
      "cell_type": "code",
      "execution_count": null,
      "metadata": {
        "collapsed": false
      },
      "outputs": [],
      "source": [
        "setting.model.network.resolve(is_first=True)"
      ]
    },
    {
      "cell_type": "markdown",
      "metadata": {},
      "source": [
        "In phlower, networks are packed into PhlowerGroupModule.\nPhlowerGroupModule is directly created from model setting.\n\n`draw` function generate a file following to mermaid format.\n\n"
      ]
    },
    {
      "cell_type": "code",
      "execution_count": null,
      "metadata": {
        "collapsed": false
      },
      "outputs": [],
      "source": [
        "from phlower.nn import PhlowerGroupModule\n\nmodel = PhlowerGroupModule.from_setting(setting.model.network)\nmodel.draw(\"images\")"
      ]
    },
    {
      "cell_type": "markdown",
      "metadata": {},
      "source": [
        "The output mermaid file is shown below.\n\n.. mermaid:: ../../tutorials/basic_usages/images/SAMPLE_MODEL.mmd\n\nAccording to this image, we can understand details of each model and data flow.\n\n\n"
      ]
    }
  ],
  "metadata": {
    "kernelspec": {
      "display_name": "Python 3",
      "language": "python",
      "name": "python3"
    },
    "language_info": {
      "codemirror_mode": {
        "name": "ipython",
        "version": 3
      },
      "file_extension": ".py",
      "mimetype": "text/x-python",
      "name": "python",
      "nbconvert_exporter": "python",
      "pygments_lexer": "ipython3",
      "version": "3.10.19"
    }
  },
  "nbformat": 4,
  "nbformat_minor": 0
}