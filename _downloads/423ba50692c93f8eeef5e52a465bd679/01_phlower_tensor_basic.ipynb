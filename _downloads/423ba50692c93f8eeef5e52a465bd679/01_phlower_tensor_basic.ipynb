{
  "cells": [
    {
      "cell_type": "markdown",
      "metadata": {},
      "source": [
        "\n\nphlower is a deep learning framework based on PyTorch Ignite especially for physical phenomenon such as fluid dynamics.\n\n\n# Phlower Tensor Operation with physical dimension\n\nUsually, physics values have physics dimensions. Phlower can consider it.\n"
      ]
    },
    {
      "cell_type": "markdown",
      "metadata": {},
      "source": [
        "Let's check what kind of items are treated as physics dimension\nThere are many possible choices of base physical dimensions.\nFollowing to the SI standard, physical dimensions and corresponding dimension symbols are shown blelow.\n\ntime (T), length (L), mass (M), electric current (I), absolute temperature (\u0398), amount of substance (N) and luminous intensity (J).\n\n"
      ]
    },
    {
      "cell_type": "code",
      "execution_count": null,
      "metadata": {
        "collapsed": false
      },
      "outputs": [],
      "source": [
        "from phlower.utils.enums import PhysicalDimensionSymbolType\n\nprint(f\"{[str(v) for v in PhysicalDimensionSymbolType]}\")"
      ]
    },
    {
      "cell_type": "markdown",
      "metadata": {},
      "source": [
        "Create PhlowerTensor which is tensor object with physical dimension.\nThere are several way to create PhlowerTensor, the most simple way is shown.\nPhlowerTensor is a wrapper of torch.Tensor. Call `print` to check values and dimensions.\n\n"
      ]
    },
    {
      "cell_type": "code",
      "execution_count": null,
      "metadata": {
        "collapsed": false
      },
      "outputs": [],
      "source": [
        "import torch\n\nfrom phlower import phlower_tensor\n\nsample_velocity = torch.rand(3, 4)\ndimension = {\"L\": 1, \"T\": -1}\nphysical_tensor = phlower_tensor(sample_velocity, dimension=dimension)\n\nprint(physical_tensor)"
      ]
    },
    {
      "cell_type": "markdown",
      "metadata": {},
      "source": [
        "Let's calculate square of velocity.\nYou can find that physical dimension is also converted to new dimension.\n\n"
      ]
    },
    {
      "cell_type": "code",
      "execution_count": null,
      "metadata": {
        "collapsed": false
      },
      "outputs": [],
      "source": [
        "square_velocity = torch.pow(physical_tensor, 2)\nprint(square_velocity)"
      ]
    },
    {
      "cell_type": "markdown",
      "metadata": {},
      "source": [
        "Create PhlowerTensor without physical dimension if you do not pass information of dimension to phlower_tensor.\nRaise error when it comes to calculate PhlowerTensor with a physical dimension and that without it.\n\n"
      ]
    },
    {
      "cell_type": "code",
      "execution_count": null,
      "metadata": {
        "collapsed": false
      },
      "outputs": [],
      "source": [
        "try:\n    one_physical_tensor = phlower_tensor(\n        torch.rand(3, 4), dimension={\"L\": 1, \"T\": -1}\n    )\n    another_physical_tensor = phlower_tensor(torch.rand(3, 4))\n    _ = another_physical_tensor + one_physical_tensor\nexcept Exception as ex:\n    print(ex)"
      ]
    },
    {
      "cell_type": "markdown",
      "metadata": {},
      "source": [
        "Some calculation operations are not allowed when physics dimension value is not the same,\n\n"
      ]
    },
    {
      "cell_type": "code",
      "execution_count": null,
      "metadata": {
        "collapsed": false
      },
      "outputs": [],
      "source": [
        "try:\n    one_physical_tensor = phlower_tensor(\n        torch.rand(3, 4), dimension={\"L\": 1, \"T\": -1}\n    )\n    another_physical_tensor = phlower_tensor(\n        torch.rand(3, 4), dimension={\"L\": 1}\n    )\n    _ = another_physical_tensor + one_physical_tensor\nexcept Exception as ex:\n    print(ex)"
      ]
    },
    {
      "cell_type": "markdown",
      "metadata": {},
      "source": [
        "Some calculation operations are allowed even when physics dimension value is not the same,\n\n"
      ]
    },
    {
      "cell_type": "code",
      "execution_count": null,
      "metadata": {
        "collapsed": false
      },
      "outputs": [],
      "source": [
        "one_physical_tensor = phlower_tensor(\n    torch.rand(3, 4), dimension={\"L\": 1, \"T\": -1}\n)\nanother_physical_tensor = phlower_tensor(\n    torch.rand(3, 4), dimension={\"Theta\": 1}\n)\nprint(another_physical_tensor * one_physical_tensor)"
      ]
    }
  ],
  "metadata": {
    "kernelspec": {
      "display_name": "Python 3",
      "language": "python",
      "name": "python3"
    },
    "language_info": {
      "codemirror_mode": {
        "name": "ipython",
        "version": 3
      },
      "file_extension": ".py",
      "mimetype": "text/x-python",
      "name": "python",
      "nbconvert_exporter": "python",
      "pygments_lexer": "ipython3",
      "version": "3.10.19"
    }
  },
  "nbformat": 4,
  "nbformat_minor": 0
}